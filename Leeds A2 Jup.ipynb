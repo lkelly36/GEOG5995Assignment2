{
 "cells": [
  {
   "cell_type": "markdown",
   "metadata": {},
   "source": [
    "# Import"
   ]
  },
  {
   "cell_type": "code",
   "execution_count": 67,
   "metadata": {},
   "outputs": [],
   "source": [
    "# Import required libraries\n",
    "import pandas as pd\n",
    "import numpy as np\n",
    "import matplotlib.pyplot as plt\n",
    "import seaborn as sns\n",
    "import scipy as sp\n",
    "import statsmodels.api as sm"
   ]
  },
  {
   "cell_type": "code",
   "execution_count": 23,
   "metadata": {},
   "outputs": [],
   "source": [
    "# Read in the data set\n",
    "df = pd.read_table('~/Desktop/Data/sdd_archive.tab', low_memory=False)"
   ]
  },
  {
   "cell_type": "code",
   "execution_count": 24,
   "metadata": {},
   "outputs": [],
   "source": [
    "# Select required variables and assign to df1\n",
    "df1 = df.loc[:,('pupilwt','age1115', 'sex', 'ddwbscore', 'ddwbcat', 'dgtdcan', 'dgtdamp','dgtdlsd','dgtdecs', \n",
    "                'dgtdcok', 'dgtdket', 'dgtdnox', 'dgtdleg', 'devrstm', 'devrpsy', 'devropi', 'devrcla', 'devrps', \n",
    "                'ddgany')]"
   ]
  },
  {
   "cell_type": "markdown",
   "metadata": {},
   "source": [
    "# Clean Data"
   ]
  },
  {
   "cell_type": "code",
   "execution_count": 25,
   "metadata": {},
   "outputs": [],
   "source": [
    "# Create functions for cleaning missing values\n",
    "\n",
    "def CleanData(df1):\n",
    "    nan_values = [-1,-8,-9] # These variables have values missing at -1,-8,-9\n",
    "    df1.sex.replace(nan_values, np.nan, inplace=True)\n",
    "    df1.dgtdcan.replace(nan_values, np.nan, inplace=True)\n",
    "    df1.dgtdamp.replace(nan_values, np.nan, inplace=True)\n",
    "    df1.dgtdlsd.replace(nan_values, np.nan, inplace=True)\n",
    "    df1.dgtdecs.replace(nan_values, np.nan, inplace=True)\n",
    "    df1.dgtdcok.replace(nan_values, np.nan, inplace=True)\n",
    "    df1.dgtdket.replace(nan_values, np.nan, inplace=True)\n",
    "    df1.dgtdnox.replace(nan_values, np.nan, inplace=True)\n",
    "    df1.dgtdleg.replace(nan_values, np.nan, inplace=True)\n",
    "    df1.devrstm.replace(nan_values, np.nan, inplace=True)\n",
    "    df1.devrpsy.replace(nan_values, np.nan, inplace=True)\n",
    "    df1.devropi.replace(nan_values, np.nan, inplace=True)\n",
    "    df1.devrcla.replace(nan_values, np.nan, inplace=True)\n",
    "    df1.devrps.replace(nan_values, np.nan, inplace=True)\n",
    "    df1.ddgany.replace(nan_values, np.nan, inplace=True)\n",
    "    \n",
    "def CleanWell(df1):\n",
    "    nan_values = [-8,-9,-98] # These variables have values missing at -8,-9,-98\n",
    "    df1.ddwbscore.replace(nan_values, np.nan, inplace=True)\n",
    "    df1.ddwbcat.replace(nan_values, np.nan, inplace=True)"
   ]
  },
  {
   "cell_type": "code",
   "execution_count": 26,
   "metadata": {},
   "outputs": [],
   "source": [
    "# Run functions\n",
    "\n",
    "CleanData(df1)\n",
    "CleanWell(df1)"
   ]
  },
  {
   "cell_type": "code",
   "execution_count": 27,
   "metadata": {},
   "outputs": [
    {
     "name": "stdout",
     "output_type": "stream",
     "text": [
      "<class 'pandas.core.frame.DataFrame'>\n",
      "RangeIndex: 12051 entries, 0 to 12050\n",
      "Data columns (total 19 columns):\n",
      "pupilwt      12051 non-null float64\n",
      "age1115      12051 non-null int64\n",
      "sex          12051 non-null float64\n",
      "ddwbscore    12051 non-null float64\n",
      "ddwbcat      12051 non-null float64\n",
      "dgtdcan      12051 non-null float64\n",
      "dgtdamp      12051 non-null float64\n",
      "dgtdlsd      12051 non-null float64\n",
      "dgtdecs      12051 non-null float64\n",
      "dgtdcok      12051 non-null float64\n",
      "dgtdket      12051 non-null float64\n",
      "dgtdnox      12051 non-null float64\n",
      "dgtdleg      12051 non-null float64\n",
      "devrstm      12051 non-null float64\n",
      "devrpsy      12051 non-null float64\n",
      "devropi      12051 non-null float64\n",
      "devrcla      12051 non-null float64\n",
      "devrps       12051 non-null float64\n",
      "ddgany       12051 non-null float64\n",
      "dtypes: float64(18), int64(1)\n",
      "memory usage: 1.7 MB\n"
     ]
    }
   ],
   "source": [
    "# Change NaNs to average mean\n",
    "df1 = df1.fillna(df1.mean())\n",
    "df1.head()\n",
    "\n",
    "# Check datatype\n",
    "df1.info()"
   ]
  },
  {
   "cell_type": "code",
   "execution_count": 28,
   "metadata": {},
   "outputs": [],
   "source": [
    "# Change floats to int\n",
    "df1 = df1.astype(int)"
   ]
  },
  {
   "cell_type": "code",
   "execution_count": 29,
   "metadata": {},
   "outputs": [
    {
     "data": {
      "text/html": [
       "<div>\n",
       "<style scoped>\n",
       "    .dataframe tbody tr th:only-of-type {\n",
       "        vertical-align: middle;\n",
       "    }\n",
       "\n",
       "    .dataframe tbody tr th {\n",
       "        vertical-align: top;\n",
       "    }\n",
       "\n",
       "    .dataframe thead th {\n",
       "        text-align: right;\n",
       "    }\n",
       "</style>\n",
       "<table border=\"1\" class=\"dataframe\">\n",
       "  <thead>\n",
       "    <tr style=\"text-align: right;\">\n",
       "      <th></th>\n",
       "      <th>pupilwt</th>\n",
       "      <th>age1115</th>\n",
       "      <th>sex</th>\n",
       "      <th>ddwbscore</th>\n",
       "      <th>ddwbcat</th>\n",
       "      <th>dgtdcan</th>\n",
       "      <th>dgtdamp</th>\n",
       "      <th>dgtdlsd</th>\n",
       "      <th>dgtdecs</th>\n",
       "      <th>dgtdcok</th>\n",
       "      <th>dgtdket</th>\n",
       "      <th>dgtdnox</th>\n",
       "      <th>dgtdleg</th>\n",
       "      <th>devrstm</th>\n",
       "      <th>devrpsy</th>\n",
       "      <th>devropi</th>\n",
       "      <th>devrcla</th>\n",
       "      <th>devrps</th>\n",
       "      <th>ddgany</th>\n",
       "    </tr>\n",
       "  </thead>\n",
       "  <tbody>\n",
       "    <tr>\n",
       "      <th>0</th>\n",
       "      <td>0</td>\n",
       "      <td>12</td>\n",
       "      <td>2</td>\n",
       "      <td>17</td>\n",
       "      <td>2</td>\n",
       "      <td>2</td>\n",
       "      <td>2</td>\n",
       "      <td>2</td>\n",
       "      <td>2</td>\n",
       "      <td>2</td>\n",
       "      <td>1</td>\n",
       "      <td>1</td>\n",
       "      <td>2</td>\n",
       "      <td>2</td>\n",
       "      <td>1</td>\n",
       "      <td>2</td>\n",
       "      <td>1</td>\n",
       "      <td>2</td>\n",
       "      <td>1</td>\n",
       "    </tr>\n",
       "    <tr>\n",
       "      <th>1</th>\n",
       "      <td>1</td>\n",
       "      <td>12</td>\n",
       "      <td>1</td>\n",
       "      <td>19</td>\n",
       "      <td>2</td>\n",
       "      <td>2</td>\n",
       "      <td>2</td>\n",
       "      <td>2</td>\n",
       "      <td>2</td>\n",
       "      <td>2</td>\n",
       "      <td>1</td>\n",
       "      <td>2</td>\n",
       "      <td>1</td>\n",
       "      <td>2</td>\n",
       "      <td>2</td>\n",
       "      <td>2</td>\n",
       "      <td>2</td>\n",
       "      <td>1</td>\n",
       "      <td>1</td>\n",
       "    </tr>\n",
       "    <tr>\n",
       "      <th>2</th>\n",
       "      <td>0</td>\n",
       "      <td>14</td>\n",
       "      <td>2</td>\n",
       "      <td>20</td>\n",
       "      <td>2</td>\n",
       "      <td>2</td>\n",
       "      <td>2</td>\n",
       "      <td>2</td>\n",
       "      <td>2</td>\n",
       "      <td>2</td>\n",
       "      <td>2</td>\n",
       "      <td>1</td>\n",
       "      <td>2</td>\n",
       "      <td>2</td>\n",
       "      <td>2</td>\n",
       "      <td>2</td>\n",
       "      <td>2</td>\n",
       "      <td>2</td>\n",
       "      <td>2</td>\n",
       "    </tr>\n",
       "    <tr>\n",
       "      <th>3</th>\n",
       "      <td>0</td>\n",
       "      <td>14</td>\n",
       "      <td>1</td>\n",
       "      <td>13</td>\n",
       "      <td>2</td>\n",
       "      <td>2</td>\n",
       "      <td>2</td>\n",
       "      <td>2</td>\n",
       "      <td>2</td>\n",
       "      <td>2</td>\n",
       "      <td>1</td>\n",
       "      <td>1</td>\n",
       "      <td>2</td>\n",
       "      <td>2</td>\n",
       "      <td>1</td>\n",
       "      <td>2</td>\n",
       "      <td>2</td>\n",
       "      <td>2</td>\n",
       "      <td>1</td>\n",
       "    </tr>\n",
       "    <tr>\n",
       "      <th>4</th>\n",
       "      <td>0</td>\n",
       "      <td>13</td>\n",
       "      <td>1</td>\n",
       "      <td>19</td>\n",
       "      <td>2</td>\n",
       "      <td>2</td>\n",
       "      <td>2</td>\n",
       "      <td>2</td>\n",
       "      <td>2</td>\n",
       "      <td>2</td>\n",
       "      <td>2</td>\n",
       "      <td>1</td>\n",
       "      <td>2</td>\n",
       "      <td>2</td>\n",
       "      <td>2</td>\n",
       "      <td>2</td>\n",
       "      <td>2</td>\n",
       "      <td>2</td>\n",
       "      <td>2</td>\n",
       "    </tr>\n",
       "  </tbody>\n",
       "</table>\n",
       "</div>"
      ],
      "text/plain": [
       "   pupilwt  age1115  sex  ddwbscore  ddwbcat  dgtdcan  dgtdamp  dgtdlsd  \\\n",
       "0        0       12    2         17        2        2        2        2   \n",
       "1        1       12    1         19        2        2        2        2   \n",
       "2        0       14    2         20        2        2        2        2   \n",
       "3        0       14    1         13        2        2        2        2   \n",
       "4        0       13    1         19        2        2        2        2   \n",
       "\n",
       "   dgtdecs  dgtdcok  dgtdket  dgtdnox  dgtdleg  devrstm  devrpsy  devropi  \\\n",
       "0        2        2        1        1        2        2        1        2   \n",
       "1        2        2        1        2        1        2        2        2   \n",
       "2        2        2        2        1        2        2        2        2   \n",
       "3        2        2        1        1        2        2        1        2   \n",
       "4        2        2        2        1        2        2        2        2   \n",
       "\n",
       "   devrcla  devrps  ddgany  \n",
       "0        1       2       1  \n",
       "1        2       1       1  \n",
       "2        2       2       2  \n",
       "3        2       2       1  \n",
       "4        2       2       2  "
      ]
     },
     "execution_count": 29,
     "metadata": {},
     "output_type": "execute_result"
    }
   ],
   "source": [
    "# Create functions for binary variables\n",
    "\n",
    "#def CleanBin(df1):\n",
    "    # Replace sex variables\n",
    " #   df1.sex.replace(1.0, 'male', inplace=True)\n",
    "  #  df1.sex.replace(2.0, 'female', inplace=True)\n",
    "    # Replace ever tried drug variables\n",
    "   # df1.dgtdcan.replace(1.0, 'yes', inplace=True)\n",
    "#    df1.dgtdcan.replace(2.0, 'no', inplace=True)\n",
    " #   df1.dgtdamp.replace(1.0, 'yes', inplace=True)\n",
    "  #  df1.dgtdamp.replace(2.0, 'no', inplace=True)\n",
    "   # df1.dgtdlsd.replace(1.0, 'yes', inplace=True)\n",
    "#    df1.dgtdlsd.replace(2.0, 'no', inplace=True)\n",
    " #   df1.dgtdecs.replace(1.0, 'yes', inplace=True)\n",
    "  #  df1.dgtdecs.replace(2.0, 'no', inplace=True)\n",
    "   # df1.dgtdcok.replace(1.0, 'yes', inplace=True)\n",
    "#    df1.dgtdcok.replace(2.0, 'no', inplace=True)\n",
    " #   df1.dgtdket.replace(1.0, 'yes', inplace=True)\n",
    "  #  df1.dgtdket.replace(2.0, 'no', inplace=True)\n",
    "   # df1.dgtdnox.replace(1.0, 'yes', inplace=True)\n",
    "#    df1.dgtdnox.replace(2.0, 'no', inplace=True)\n",
    " #   df1.dgtdleg.replace(1.0, 'yes', inplace=True)\n",
    "  #  df1.dgtdleg.replace(2.0, 'no', inplace=True)\n",
    "    # Replace ever tried drug group variables\n",
    "   # df1.devrstm.replace(1.0, 'yes', inplace=True)\n",
    "#    df1.devrstm.replace(2.0, 'no', inplace=True)\n",
    " #   df1.devrpsy.replace(1.0, 'yes', inplace=True)\n",
    "  #  df1.devrpsy.replace(2.0, 'no', inplace=True)\n",
    "   # df1.devropi.replace(1.0, 'yes', inplace=True)\n",
    "#    df1.devropi.replace(2.0, 'no', inplace=True)\n",
    " #   df1.devrcla.replace(1.0, 'yes', inplace=True)\n",
    "  #  df1.devrcla.replace(2.0, 'no', inplace=True)\n",
    "   # df1.devrps.replace(1.0, 'yes', inplace=True)\n",
    "#    df1.devrps.replace(2.0, 'no', inplace=True)\n",
    "    # Replace ever tried any drug\n",
    " #   df1.ddgany.replace(1.0, 'yes', inplace=True)\n",
    "  #  df1.ddgany.replace(2.0, 'no', inplace=True)\n",
    "    # Replace wellbeing category\n",
    "   # df1.ddwbcat.replace(1.0, 'low wellbeing', inplace=True)\n",
    "#    df1.ddwbcat.replace(2.0, 'not low wellbeing', inplace=True)\n",
    "    \n",
    "# Run function for binary variables\n",
    "#CleanBin(df1)\n",
    "\n",
    "# Check data\n",
    "df1.head()"
   ]
  },
  {
   "cell_type": "markdown",
   "metadata": {},
   "source": [
    "# Descriptive Statistics"
   ]
  },
  {
   "cell_type": "code",
   "execution_count": 30,
   "metadata": {},
   "outputs": [
    {
     "name": "stdout",
     "output_type": "stream",
     "text": [
      "14.64351506099079\n",
      "18.143103535146043\n"
     ]
    }
   ],
   "source": [
    "# Calculate descriptive statistics for wellbeing scores\n",
    "\n",
    "wbmean = np.mean(df1.ddwbscore) # mean wellbeing score\n",
    "wbvar = np.var(df1.ddwbscore) # variance\n",
    "print(wbmean)\n",
    "print(wbvar)"
   ]
  },
  {
   "cell_type": "code",
   "execution_count": 31,
   "metadata": {},
   "outputs": [],
   "source": [
    "# Create plot to show distribution of wellbeing score\n",
    "#sns.distplot(df1.ddwbscore)\n",
    "#plt.title('Histogram of Wellbeing Scores')\n",
    "#plt.xlabel('Wellbeing Scores')\n",
    "#plt.ylabel('Estimated Density')\n",
    "#plt.xticks((0,2,4,6,8,10,12,14,16,18,20))\n",
    "#plt.xlim([1,20])\n",
    "#plt.savefig('wellbeing_hist.jpg')\n",
    "#plt.figure()"
   ]
  },
  {
   "cell_type": "code",
   "execution_count": 16,
   "metadata": {},
   "outputs": [
    {
     "data": {
      "image/png": "[encoded data removed]",
      "text/plain": [
       "<Figure size 432x288 with 1 Axes>"
      ]
     },
     "metadata": {},
     "output_type": "display_data"
    },
    {
     "data": {
      "image/png": "[encoded data removed]",
      "text/plain": [
       "<Figure size 360x144 with 1 Axes>"
      ]
     },
     "metadata": {},
     "output_type": "display_data"
    }
   ],
   "source": [
    "# Set up plot\n",
    "ax = sns.barplot(df1.ddwbscore)\n",
    "# Set parameters for visualising central tendency of wellbeing scores\n",
    "xk,yk = ax.get_lines()[0].get_data()\n",
    "mm = np.mean(df1.ddwbscore)\n",
    "md = np.median(df1.ddwbscore)\n",
    "mo = xk[np.argmax(yk)]\n",
    "\n",
    "# Plot central tendency of wellbeing scores - including mean, median and KDE estimated mode\n",
    "plt.figure(figsize=(5,2))\n",
    "plt.plot(xk,yk,'-k')\n",
    "xx = np.ones(2)\n",
    "yy = np.array([0, 0.8])\n",
    "plt.plot(mm*xx,yy,'--b',label='Mean')\n",
    "plt.plot(md*xx,yy,'-.r',label='Median')\n",
    "plt.plot(mo*xx,yy,':m',label='KDE-estimated Mode')\n",
    "plt.xlabel('Wellbeing Score')\n",
    "plt.ylabel('Estimated Density')\n",
    "plt.xlim([0,20])\n",
    "plt.legend()\n",
    "plt.tight_layout()\n",
    "plt.savefig('wellbeing_cent_tend.jpg')\n",
    "plt.show()"
   ]
  },
  {
   "cell_type": "code",
   "execution_count": 77,
   "metadata": {},
   "outputs": [
    {
     "data": {
      "text/plain": [
       "<Figure size 432x288 with 0 Axes>"
      ]
     },
     "execution_count": 77,
     "metadata": {},
     "output_type": "execute_result"
    },
    {
     "data": {
      "image/png": "[encoded data removed]",
      "text/plain": [
       "<Figure size 402.375x360 with 1 Axes>"
      ]
     },
     "metadata": {},
     "output_type": "display_data"
    },
    {
     "data": {
      "text/plain": [
       "<Figure size 432x288 with 0 Axes>"
      ]
     },
     "metadata": {},
     "output_type": "display_data"
    }
   ],
   "source": [
    "#Correlation of wellbeing scores and drug use by gender\n",
    "sns.lmplot(x=\"ddgany\", y=\"ddwbscore\", hue=\"sex\", data=df1, x_estimator=np.mean);\n",
    "plt.title('Wellbeing scores by previous drug use and gender')\n",
    "plt.xlabel('Ever used any drugs')\n",
    "plt.ylabel('Wellbeing Scores')\n",
    "plt.savefig('../corr_wb_drug.jpg',format='jpg') \n",
    "plt.figure()"
   ]
  },
  {
   "cell_type": "code",
   "execution_count": 80,
   "metadata": {},
   "outputs": [
    {
     "data": {
      "image/png": "[encoded data removed]",
      "text/plain": [
       "<Figure size 360x360 with 1 Axes>"
      ]
     },
     "metadata": {},
     "output_type": "display_data"
    }
   ],
   "source": [
    "# Plot linear regression of wellbeing scores and drug use by gender\n",
    "g = sns.lmplot(x=\"ddgany\", y=\"ddwbscore\", hue=\"sex\", data=df1, x_estimator=np.mean, legend_out = False)\n",
    "\n",
    "# Change labels of sex from 1 to male and 2 to female.\n",
    "leg = g.axes.flat[0].get_legend()\n",
    "new_title = 'Sex'\n",
    "leg.set_title(new_title)\n",
    "new_labels = ['male', 'female']\n",
    "for t, l in zip(leg.texts, new_labels): t.set_text(l)\n",
    "\n",
    "# Set labels, save and show plot\n",
    "plt.title('Wellbeing scores by previous drug use and gender')\n",
    "plt.xlabel('Ever used any drugs')\n",
    "plt.ylabel('Wellbeing Scores')\n",
    "plt.savefig('../corr_wb_drug.jpg',format='jpg') \n",
    "plt.show()"
   ]
  },
  {
   "cell_type": "markdown",
   "metadata": {},
   "source": [
    "# Exploratory Data Analysis"
   ]
  },
  {
   "cell_type": "code",
   "execution_count": 32,
   "metadata": {},
   "outputs": [],
   "source": [
    "# Create matrix with variables of interest and assign to array\n",
    "X = [df1.ddwbscore, df1.ddwbcat, df1.dgtdcan, df1.dgtdamp, df1.dgtdlsd, df1.dgtdecs, df1.dgtdcok, df1.dgtdket,\n",
    "     df1.dgtdnox, df1.dgtdleg, df1.devrstm, df1.devrpsy, df1.devropi, df1.devrcla, df1.devrps, df1.ddgany]"
   ]
  },
  {
   "cell_type": "code",
   "execution_count": 33,
   "metadata": {},
   "outputs": [
    {
     "name": "stdout",
     "output_type": "stream",
     "text": [
      "[14.64351506  1.70541864  1.78051614  1.57605178  1.49456477  1.60633972\n",
      "  1.88664841  1.39673056  1.57098996  1.61638038  1.84150693  1.9073106\n",
      "  1.92739192  1.81047216  1.87171189  1.60775039]\n"
     ]
    }
   ],
   "source": [
    "# get sample means\n",
    "xbar = np.mean(X,1)\n",
    "print(xbar)"
   ]
  },
  {
   "cell_type": "markdown",
   "metadata": {},
   "source": [
    "# Linear Regression"
   ]
  },
  {
   "cell_type": "code",
   "execution_count": 68,
   "metadata": {},
   "outputs": [],
   "source": [
    "# Create X variable\n",
    "\n",
    "X = [df1.dgtdcan, df1.dgtdamp, df1.dgtdlsd, df1.dgtdecs, df1.dgtdcok, df1.dgtdket, df1.dgtdnox, df1.dgtdleg]\n",
    "X = np.array(X)\n",
    "X = X.T\n",
    "X = sm.add_constant(X)\n",
    "\n",
    "# Create response variable - wellbeing scores\n",
    "y = df1.ddwbscore"
   ]
  },
  {
   "cell_type": "code",
   "execution_count": 69,
   "metadata": {},
   "outputs": [
    {
     "name": "stdout",
     "output_type": "stream",
     "text": [
      "                  Results: Ordinary least squares\n",
      "===================================================================\n",
      "Model:              OLS              Adj. R-squared:     0.040     \n",
      "Dependent Variable: ddwbscore        AIC:                68647.9171\n",
      "Date:               2019-01-03 15:04 BIC:                68714.4892\n",
      "No. Observations:   12051            Log-Likelihood:     -34315.   \n",
      "Df Model:           8                F-statistic:        63.33     \n",
      "Df Residuals:       12042            Prob (F-statistic): 4.18e-102 \n",
      "R-squared:          0.040            Scale:              17.424    \n",
      "---------------------------------------------------------------------\n",
      "             Coef.    Std.Err.      t      P>|t|     [0.025    0.975]\n",
      "---------------------------------------------------------------------\n",
      "const       16.4456     0.2690   61.1436   0.0000   15.9184   16.9728\n",
      "x1           0.5942     0.1001    5.9383   0.0000    0.3981    0.7903\n",
      "x2          -0.5645     0.0954   -5.9150   0.0000   -0.7515   -0.3774\n",
      "x3          -0.7330     0.0942   -7.7815   0.0000   -0.9176   -0.5483\n",
      "x4          -0.3179     0.0990   -3.2100   0.0013   -0.5120   -0.1238\n",
      "x5           0.3443     0.1309    2.6303   0.0085    0.0877    0.6008\n",
      "x6          -0.5161     0.0919   -5.6185   0.0000   -0.6962   -0.3361\n",
      "x7           0.1425     0.0825    1.7286   0.0839   -0.0191    0.3042\n",
      "x8          -0.3198     0.0915   -3.4963   0.0005   -0.4991   -0.1405\n",
      "-------------------------------------------------------------------\n",
      "Omnibus:              1455.625      Durbin-Watson:         1.975   \n",
      "Prob(Omnibus):        0.000         Jarque-Bera (JB):      2102.199\n",
      "Skew:                 -0.917        Prob(JB):              0.000   \n",
      "Kurtosis:             3.906         Condition No.:         35      \n",
      "===================================================================\n",
      "\n"
     ]
    }
   ],
   "source": [
    "# Run linear regression model\n",
    "linear_model=sm.OLS(y,X)\n",
    "result_lin=linear_model.fit()\n",
    "print(result_lin.summary2())"
   ]
  },
  {
   "cell_type": "code",
   "execution_count": 70,
   "metadata": {},
   "outputs": [
    {
     "name": "stdout",
     "output_type": "stream",
     "text": [
      "                  Results: Ordinary least squares\n",
      "===================================================================\n",
      "Model:              OLS              Adj. R-squared:     0.040     \n",
      "Dependent Variable: ddwbscore        AIC:                68648.9070\n",
      "Date:               2019-01-03 15:05 BIC:                68708.0822\n",
      "No. Observations:   12051            Log-Likelihood:     -34316.   \n",
      "Df Model:           7                F-statistic:        71.94     \n",
      "Df Residuals:       12043            Prob (F-statistic): 2.08e-102 \n",
      "R-squared:          0.040            Scale:              17.426    \n",
      "---------------------------------------------------------------------\n",
      "             Coef.    Std.Err.      t      P>|t|     [0.025    0.975]\n",
      "---------------------------------------------------------------------\n",
      "const       16.5087     0.2665   61.9464   0.0000   15.9863   17.0311\n",
      "x1           0.6129     0.0995    6.1610   0.0000    0.4179    0.8079\n",
      "x2          -0.5537     0.0952   -5.8137   0.0000   -0.7403   -0.3670\n",
      "x3          -0.7242     0.0941   -7.6991   0.0000   -0.9086   -0.5398\n",
      "x4          -0.3119     0.0990   -3.1514   0.0016   -0.5059   -0.1179\n",
      "x5           0.3688     0.1301    2.8346   0.0046    0.1138    0.6239\n",
      "x6          -0.5051     0.0916   -5.5114   0.0000   -0.6848   -0.3255\n",
      "x7          -0.3037     0.0910   -3.3371   0.0008   -0.4820   -0.1253\n",
      "-------------------------------------------------------------------\n",
      "Omnibus:              1458.707      Durbin-Watson:         1.976   \n",
      "Prob(Omnibus):        0.000         Jarque-Bera (JB):      2108.957\n",
      "Skew:                 -0.918        Prob(JB):              0.000   \n",
      "Kurtosis:             3.910         Condition No.:         33      \n",
      "===================================================================\n",
      "\n"
     ]
    }
   ],
   "source": [
    "# Remove insignificant variables\n",
    "X = [df1.dgtdcan, df1.dgtdamp, df1.dgtdlsd, df1.dgtdecs, df1.dgtdcok, df1.dgtdket, df1.dgtdleg]\n",
    "X = np.array(X)\n",
    "X = X.T\n",
    "X = sm.add_constant(X)\n",
    "\n",
    "# Run second linear regression model\n",
    "linear_model2=sm.OLS(y,X)\n",
    "result_lin2=linear_model2.fit()\n",
    "print(result_lin2.summary2())"
   ]
  },
  {
   "cell_type": "code",
   "execution_count": null,
   "metadata": {},
   "outputs": [],
   "source": []
  }
 ],
 "metadata": {
  "kernelspec": {
   "display_name": "Python 3",
   "language": "python",
   "name": "python3"
  },
  "language_info": {
   "codemirror_mode": {
    "name": "ipython",
    "version": 3
   },
   "file_extension": ".py",
   "mimetype": "text/x-python",
   "name": "python",
   "nbconvert_exporter": "python",
   "pygments_lexer": "ipython3",
   "version": "3.6.5"
  }
 },
 "nbformat": 4,
 "nbformat_minor": 2
}
